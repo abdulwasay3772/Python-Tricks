{
  "nbformat": 4,
  "nbformat_minor": 0,
  "metadata": {
    "colab": {
      "name": "Pythontricks.ipynb",
      "provenance": [],
      "collapsed_sections": []
    },
    "kernelspec": {
      "name": "python3",
      "display_name": "Python 3"
    },
    "language_info": {
      "name": "python"
    }
  },
  "cells": [
    {
      "cell_type": "markdown",
      "source": [
        "### **Underscores, Dunders, and More**"
      ],
      "metadata": {
        "id": "EYBujxLKTeDq"
      }
    },
    {
      "cell_type": "markdown",
      "source": [
        "**1. Single Leading Underscore: “_var”**"
      ],
      "metadata": {
        "id": "zTdVuoWPTpIb"
      }
    },
    {
      "cell_type": "code",
      "execution_count": 1,
      "metadata": {
        "id": "CsVbueKCgDul"
      },
      "outputs": [],
      "source": [
        "class Test:\n",
        "  def __init__(self):\n",
        "    self.foo = 11\n",
        "    self._bar = 23"
      ]
    },
    {
      "cell_type": "code",
      "source": [
        "t = Test()\n",
        "t.foo"
      ],
      "metadata": {
        "colab": {
          "base_uri": "https://localhost:8080/"
        },
        "id": "kPpqlQaNtTAf",
        "outputId": "6f80dce9-b4a2-4631-dd77-1aa700566efa"
      },
      "execution_count": 2,
      "outputs": [
        {
          "output_type": "execute_result",
          "data": {
            "text/plain": [
              "11"
            ]
          },
          "metadata": {},
          "execution_count": 2
        }
      ]
    },
    {
      "cell_type": "code",
      "source": [
        "t._bar"
      ],
      "metadata": {
        "colab": {
          "base_uri": "https://localhost:8080/"
        },
        "id": "MpFR3GQitXGU",
        "outputId": "bf49c244-06b3-4d40-fb17-0d397c0b6a32"
      },
      "execution_count": 3,
      "outputs": [
        {
          "output_type": "execute_result",
          "data": {
            "text/plain": [
              "23"
            ]
          },
          "metadata": {},
          "execution_count": 3
        }
      ]
    },
    {
      "cell_type": "markdown",
      "source": [
        "***# my_module.py:***"
      ],
      "metadata": {
        "id": "8MHQN_dNT8qC"
      }
    },
    {
      "cell_type": "code",
      "source": [
        "myfile= open('abdul_wasay.py','x')"
      ],
      "metadata": {
        "id": "DFmujui_eVB4"
      },
      "execution_count": 4,
      "outputs": []
    },
    {
      "cell_type": "code",
      "source": [
        "def external_func():\n",
        "  return 23"
      ],
      "metadata": {
        "id": "6QwGms2jthtM"
      },
      "execution_count": 5,
      "outputs": []
    },
    {
      "cell_type": "code",
      "source": [
        "def _internal_func():\n",
        "  return 42"
      ],
      "metadata": {
        "id": "6UyPJVekUEZG"
      },
      "execution_count": 6,
      "outputs": []
    },
    {
      "cell_type": "code",
      "source": [
        "from abdul_wasay import *\n",
        "external_func()"
      ],
      "metadata": {
        "colab": {
          "base_uri": "https://localhost:8080/"
        },
        "id": "4qkhTwvuUmPp",
        "outputId": "c432a373-8de3-4736-ec2d-97a8db86a612"
      },
      "execution_count": 7,
      "outputs": [
        {
          "output_type": "execute_result",
          "data": {
            "text/plain": [
              "23"
            ]
          },
          "metadata": {},
          "execution_count": 7
        }
      ]
    },
    {
      "cell_type": "code",
      "source": [
        "_internal_func()"
      ],
      "metadata": {
        "colab": {
          "base_uri": "https://localhost:8080/"
        },
        "id": "QUkbTCAlVAgE",
        "outputId": "08be06d7-b109-4d9e-e4e7-aeb25cecd6e4"
      },
      "execution_count": 8,
      "outputs": [
        {
          "output_type": "execute_result",
          "data": {
            "text/plain": [
              "42"
            ]
          },
          "metadata": {},
          "execution_count": 8
        }
      ]
    },
    {
      "cell_type": "markdown",
      "source": [
        "### **Single Trailing Underscore: “var_”**"
      ],
      "metadata": {
        "id": "cwPbnyDdf9t1"
      }
    },
    {
      "cell_type": "code",
      "source": [
        "def make_object(name, class):"
      ],
      "metadata": {
        "colab": {
          "base_uri": "https://localhost:8080/",
          "height": 130
        },
        "id": "6qtUtWdxgGWs",
        "outputId": "c032b674-457d-421c-e599-44f345ef9b80"
      },
      "execution_count": 9,
      "outputs": [
        {
          "output_type": "error",
          "ename": "SyntaxError",
          "evalue": "ignored",
          "traceback": [
            "\u001b[0;36m  File \u001b[0;32m\"<ipython-input-9-8bc7202f8bcc>\"\u001b[0;36m, line \u001b[0;32m1\u001b[0m\n\u001b[0;31m    def make_object(name, class):\u001b[0m\n\u001b[0m                              ^\u001b[0m\n\u001b[0;31mSyntaxError\u001b[0m\u001b[0;31m:\u001b[0m invalid syntax\n"
          ]
        }
      ]
    },
    {
      "cell_type": "code",
      "source": [
        "def make_object(name, class_):\n",
        "  pass"
      ],
      "metadata": {
        "id": "5InfjQDJgLkG"
      },
      "execution_count": 10,
      "outputs": []
    },
    {
      "cell_type": "markdown",
      "source": [
        "### Double Leading Underscore: **“__var”**"
      ],
      "metadata": {
        "id": "wmRrv-JmgdTm"
      }
    },
    {
      "cell_type": "code",
      "source": [
        "class Test:\n",
        "  def __init__(self):\n",
        "    self.foo = 11\n",
        "    self._bar = 23\n",
        "    self.__baz = 23"
      ],
      "metadata": {
        "id": "dvYD5EUrgjeC"
      },
      "execution_count": 11,
      "outputs": []
    },
    {
      "cell_type": "code",
      "source": [
        "t = Test()\n",
        "dir(t)"
      ],
      "metadata": {
        "colab": {
          "base_uri": "https://localhost:8080/"
        },
        "id": "JVwMU8T7gsho",
        "outputId": "fdac7a83-d8c2-455a-ca93-7ff6d1da0c77"
      },
      "execution_count": 12,
      "outputs": [
        {
          "output_type": "execute_result",
          "data": {
            "text/plain": [
              "['_Test__baz',\n",
              " '__class__',\n",
              " '__delattr__',\n",
              " '__dict__',\n",
              " '__dir__',\n",
              " '__doc__',\n",
              " '__eq__',\n",
              " '__format__',\n",
              " '__ge__',\n",
              " '__getattribute__',\n",
              " '__gt__',\n",
              " '__hash__',\n",
              " '__init__',\n",
              " '__init_subclass__',\n",
              " '__le__',\n",
              " '__lt__',\n",
              " '__module__',\n",
              " '__ne__',\n",
              " '__new__',\n",
              " '__reduce__',\n",
              " '__reduce_ex__',\n",
              " '__repr__',\n",
              " '__setattr__',\n",
              " '__sizeof__',\n",
              " '__str__',\n",
              " '__subclasshook__',\n",
              " '__weakref__',\n",
              " '_bar',\n",
              " 'foo']"
            ]
          },
          "metadata": {},
          "execution_count": 12
        }
      ]
    },
    {
      "cell_type": "code",
      "source": [
        "class ExtendedTest(Test):\n",
        "  def __init__(self):\n",
        "    super().__init__()\n",
        "    self.foo = 'overridden'\n",
        "    self._bar = 'overridden'\n",
        "    self.__baz = 'overridden'"
      ],
      "metadata": {
        "id": "W2xU3rmfg2j6"
      },
      "execution_count": 13,
      "outputs": []
    },
    {
      "cell_type": "code",
      "source": [
        "t2 = ExtendedTest()\n",
        "t2.foo"
      ],
      "metadata": {
        "colab": {
          "base_uri": "https://localhost:8080/",
          "height": 35
        },
        "id": "WEhwPIG5hJrc",
        "outputId": "a9563ece-14c6-4ad0-9fe4-ea5d5b1fc663"
      },
      "execution_count": 14,
      "outputs": [
        {
          "output_type": "execute_result",
          "data": {
            "application/vnd.google.colaboratory.intrinsic+json": {
              "type": "string"
            },
            "text/plain": [
              "'overridden'"
            ]
          },
          "metadata": {},
          "execution_count": 14
        }
      ]
    },
    {
      "cell_type": "code",
      "source": [
        "t2._bar"
      ],
      "metadata": {
        "colab": {
          "base_uri": "https://localhost:8080/",
          "height": 35
        },
        "id": "DELwkYBYhNUD",
        "outputId": "cce6bdd7-d9de-4502-8bed-5ecba4832192"
      },
      "execution_count": 15,
      "outputs": [
        {
          "output_type": "execute_result",
          "data": {
            "application/vnd.google.colaboratory.intrinsic+json": {
              "type": "string"
            },
            "text/plain": [
              "'overridden'"
            ]
          },
          "metadata": {},
          "execution_count": 15
        }
      ]
    },
    {
      "cell_type": "code",
      "source": [
        "t2.__baz"
      ],
      "metadata": {
        "colab": {
          "base_uri": "https://localhost:8080/",
          "height": 165
        },
        "id": "hCK8DxHbhO1F",
        "outputId": "3cf6b744-f1fb-4608-c870-9f6c00a01a6c"
      },
      "execution_count": 16,
      "outputs": [
        {
          "output_type": "error",
          "ename": "AttributeError",
          "evalue": "ignored",
          "traceback": [
            "\u001b[0;31m---------------------------------------------------------------------------\u001b[0m",
            "\u001b[0;31mAttributeError\u001b[0m                            Traceback (most recent call last)",
            "\u001b[0;32m<ipython-input-16-ce8e845954f0>\u001b[0m in \u001b[0;36m<module>\u001b[0;34m()\u001b[0m\n\u001b[0;32m----> 1\u001b[0;31m \u001b[0mt2\u001b[0m\u001b[0;34m.\u001b[0m\u001b[0m__baz\u001b[0m\u001b[0;34m\u001b[0m\u001b[0;34m\u001b[0m\u001b[0m\n\u001b[0m",
            "\u001b[0;31mAttributeError\u001b[0m: 'ExtendedTest' object has no attribute '__baz'"
          ]
        }
      ]
    },
    {
      "cell_type": "code",
      "source": [
        "dir(t2)"
      ],
      "metadata": {
        "colab": {
          "base_uri": "https://localhost:8080/"
        },
        "id": "y_-i6MjshYV7",
        "outputId": "bffe2e76-4e1f-4356-c7b3-4ce19d36f553"
      },
      "execution_count": 17,
      "outputs": [
        {
          "output_type": "execute_result",
          "data": {
            "text/plain": [
              "['_ExtendedTest__baz',\n",
              " '_Test__baz',\n",
              " '__class__',\n",
              " '__delattr__',\n",
              " '__dict__',\n",
              " '__dir__',\n",
              " '__doc__',\n",
              " '__eq__',\n",
              " '__format__',\n",
              " '__ge__',\n",
              " '__getattribute__',\n",
              " '__gt__',\n",
              " '__hash__',\n",
              " '__init__',\n",
              " '__init_subclass__',\n",
              " '__le__',\n",
              " '__lt__',\n",
              " '__module__',\n",
              " '__ne__',\n",
              " '__new__',\n",
              " '__reduce__',\n",
              " '__reduce_ex__',\n",
              " '__repr__',\n",
              " '__setattr__',\n",
              " '__sizeof__',\n",
              " '__str__',\n",
              " '__subclasshook__',\n",
              " '__weakref__',\n",
              " '_bar',\n",
              " 'foo']"
            ]
          },
          "metadata": {},
          "execution_count": 17
        }
      ]
    },
    {
      "cell_type": "code",
      "source": [
        "t2._ExtendedTest__baz"
      ],
      "metadata": {
        "colab": {
          "base_uri": "https://localhost:8080/",
          "height": 35
        },
        "id": "cTAyhTM-ha1y",
        "outputId": "0be91948-510a-40a3-fd7d-c6741ab17615"
      },
      "execution_count": 18,
      "outputs": [
        {
          "output_type": "execute_result",
          "data": {
            "application/vnd.google.colaboratory.intrinsic+json": {
              "type": "string"
            },
            "text/plain": [
              "'overridden'"
            ]
          },
          "metadata": {},
          "execution_count": 18
        }
      ]
    },
    {
      "cell_type": "code",
      "source": [
        "t2._Test__baz"
      ],
      "metadata": {
        "colab": {
          "base_uri": "https://localhost:8080/"
        },
        "id": "3L816nlgheUO",
        "outputId": "2b5fabd4-be7b-4265-a3e8-074d1506ff87"
      },
      "execution_count": 19,
      "outputs": [
        {
          "output_type": "execute_result",
          "data": {
            "text/plain": [
              "23"
            ]
          },
          "metadata": {},
          "execution_count": 19
        }
      ]
    },
    {
      "cell_type": "code",
      "source": [
        "class ManglingTest:\n",
        "  def __init__(self):\n",
        "    self.__mangled = 'hello'"
      ],
      "metadata": {
        "id": "H8gkukhOhnWa"
      },
      "execution_count": 20,
      "outputs": []
    },
    {
      "cell_type": "code",
      "source": [
        "def get_mangled(self):\n",
        "    return self.__mangled"
      ],
      "metadata": {
        "id": "5RzYxXDJh2QG"
      },
      "execution_count": 21,
      "outputs": []
    },
    {
      "cell_type": "code",
      "source": [
        "ManglingTest().get_mangled()"
      ],
      "metadata": {
        "id": "p-QrE8e0hsxx"
      },
      "execution_count": null,
      "outputs": []
    },
    {
      "cell_type": "code",
      "source": [
        "ManglingTest().__mangled"
      ],
      "metadata": {
        "id": "ldbu2qsxiAYI"
      },
      "execution_count": null,
      "outputs": []
    },
    {
      "cell_type": "code",
      "source": [
        "class MangledMethod:\n",
        "def __method(self):\n",
        "return 42\n",
        "def call_it(self):\n",
        "return self.__method()"
      ],
      "metadata": {
        "id": "wYAw9b2siqi_"
      },
      "execution_count": null,
      "outputs": []
    },
    {
      "cell_type": "code",
      "source": [
        "MangledMethod().__method()"
      ],
      "metadata": {
        "id": "0VMp642QizRy"
      },
      "execution_count": null,
      "outputs": []
    },
    {
      "cell_type": "code",
      "source": [
        "MangledMethod().call_it()"
      ],
      "metadata": {
        "id": "0I6M4tHji4lK"
      },
      "execution_count": null,
      "outputs": []
    },
    {
      "cell_type": "code",
      "source": [
        "_MangledGlobal__mangled = 23"
      ],
      "metadata": {
        "id": "-Ng8nOJGi7BN"
      },
      "execution_count": 29,
      "outputs": []
    },
    {
      "cell_type": "code",
      "source": [
        "class MangledGlobal:\n",
        "  def test(self):\n",
        "    return __mangled"
      ],
      "metadata": {
        "id": "jstIg0dqi_C3"
      },
      "execution_count": 27,
      "outputs": []
    },
    {
      "cell_type": "code",
      "source": [
        "MangledGlobal().test()"
      ],
      "metadata": {
        "id": "1fZVVBhxjCci"
      },
      "execution_count": null,
      "outputs": []
    },
    {
      "cell_type": "markdown",
      "source": [
        "### **Double Leading and Trailing Underscore**"
      ],
      "metadata": {
        "id": "3eiBVwexjFnb"
      }
    },
    {
      "cell_type": "code",
      "source": [
        "class PrefixPostfixTest:\n",
        "  def __init__(self):\n",
        "    self.__bam__ = 42\n",
        "PrefixPostfixTest().__bam__"
      ],
      "metadata": {
        "colab": {
          "base_uri": "https://localhost:8080/"
        },
        "id": "dqz_iZByjTQl",
        "outputId": "e1e7d1d6-99ff-4674-bff9-a9ebc597fbb6"
      },
      "execution_count": 31,
      "outputs": [
        {
          "output_type": "execute_result",
          "data": {
            "text/plain": [
              "42"
            ]
          },
          "metadata": {},
          "execution_count": 31
        }
      ]
    },
    {
      "cell_type": "markdown",
      "source": [
        "### **Single Underscore**"
      ],
      "metadata": {
        "id": "XCghqiCEjlfM"
      }
    },
    {
      "cell_type": "code",
      "source": [
        "for _ in range(32):\n",
        "  print('Hello, World.')"
      ],
      "metadata": {
        "colab": {
          "base_uri": "https://localhost:8080/"
        },
        "id": "VelkrjxEjoP_",
        "outputId": "f588ba82-075e-4a11-dd9f-06c2709795fd"
      },
      "execution_count": 32,
      "outputs": [
        {
          "output_type": "stream",
          "name": "stdout",
          "text": [
            "Hello, World.\n",
            "Hello, World.\n",
            "Hello, World.\n",
            "Hello, World.\n",
            "Hello, World.\n",
            "Hello, World.\n",
            "Hello, World.\n",
            "Hello, World.\n",
            "Hello, World.\n",
            "Hello, World.\n",
            "Hello, World.\n",
            "Hello, World.\n",
            "Hello, World.\n",
            "Hello, World.\n",
            "Hello, World.\n",
            "Hello, World.\n",
            "Hello, World.\n",
            "Hello, World.\n",
            "Hello, World.\n",
            "Hello, World.\n",
            "Hello, World.\n",
            "Hello, World.\n",
            "Hello, World.\n",
            "Hello, World.\n",
            "Hello, World.\n",
            "Hello, World.\n",
            "Hello, World.\n",
            "Hello, World.\n",
            "Hello, World.\n",
            "Hello, World.\n",
            "Hello, World.\n",
            "Hello, World.\n"
          ]
        }
      ]
    },
    {
      "cell_type": "code",
      "source": [
        "car = ('red', 'auto', 12, 3812.4)\n",
        "color, _, _, mileage = car"
      ],
      "metadata": {
        "id": "rb6pNdV5jrSa"
      },
      "execution_count": 33,
      "outputs": []
    },
    {
      "cell_type": "code",
      "source": [
        "color"
      ],
      "metadata": {
        "colab": {
          "base_uri": "https://localhost:8080/",
          "height": 35
        },
        "id": "c9fPWra8j6VS",
        "outputId": "e630aba9-89bc-4689-fa8e-ff564e4850e8"
      },
      "execution_count": 34,
      "outputs": [
        {
          "output_type": "execute_result",
          "data": {
            "application/vnd.google.colaboratory.intrinsic+json": {
              "type": "string"
            },
            "text/plain": [
              "'red'"
            ]
          },
          "metadata": {},
          "execution_count": 34
        }
      ]
    },
    {
      "cell_type": "code",
      "source": [
        "mileage"
      ],
      "metadata": {
        "colab": {
          "base_uri": "https://localhost:8080/"
        },
        "id": "NLXmeiCsj8rH",
        "outputId": "d7ddecb0-9973-4e99-a46c-62a4c11ee8d3"
      },
      "execution_count": 35,
      "outputs": [
        {
          "output_type": "execute_result",
          "data": {
            "text/plain": [
              "3812.4"
            ]
          },
          "metadata": {},
          "execution_count": 35
        }
      ]
    },
    {
      "cell_type": "code",
      "source": [
        "20+3"
      ],
      "metadata": {
        "colab": {
          "base_uri": "https://localhost:8080/"
        },
        "id": "CTf6pk-VkO59",
        "outputId": "443d489a-6341-4183-c287-ad2ce49b3949"
      },
      "execution_count": 36,
      "outputs": [
        {
          "output_type": "execute_result",
          "data": {
            "text/plain": [
              "23"
            ]
          },
          "metadata": {},
          "execution_count": 36
        }
      ]
    },
    {
      "cell_type": "code",
      "source": [
        "_"
      ],
      "metadata": {
        "colab": {
          "base_uri": "https://localhost:8080/"
        },
        "id": "yh7pPBAWkRbo",
        "outputId": "bf18d333-fa84-4c42-c536-e73cc0f48b6f"
      },
      "execution_count": 37,
      "outputs": [
        {
          "output_type": "execute_result",
          "data": {
            "text/plain": [
              "23"
            ]
          },
          "metadata": {},
          "execution_count": 37
        }
      ]
    },
    {
      "cell_type": "code",
      "source": [
        "print(_)"
      ],
      "metadata": {
        "colab": {
          "base_uri": "https://localhost:8080/"
        },
        "id": "-gbyhvKqkSp-",
        "outputId": "d041f58a-9df9-4467-b1ac-c7c1406c0863"
      },
      "execution_count": 38,
      "outputs": [
        {
          "output_type": "stream",
          "name": "stdout",
          "text": [
            "23\n"
          ]
        }
      ]
    },
    {
      "cell_type": "code",
      "source": [
        "list()"
      ],
      "metadata": {
        "colab": {
          "base_uri": "https://localhost:8080/"
        },
        "id": "xs8wXYr9kV1t",
        "outputId": "972b8397-9176-4a6b-e2e5-566944a1e994"
      },
      "execution_count": 39,
      "outputs": [
        {
          "output_type": "execute_result",
          "data": {
            "text/plain": [
              "[]"
            ]
          },
          "metadata": {},
          "execution_count": 39
        }
      ]
    },
    {
      "cell_type": "code",
      "source": [
        "_.append(1)\n",
        "_.append(2)\n",
        "_.append(3)\n",
        "_"
      ],
      "metadata": {
        "colab": {
          "base_uri": "https://localhost:8080/"
        },
        "id": "TfPK9YH5klL7",
        "outputId": "45d95c3b-617a-40b3-9b44-8f3273a876e9"
      },
      "execution_count": 40,
      "outputs": [
        {
          "output_type": "execute_result",
          "data": {
            "text/plain": [
              "[1, 2, 3]"
            ]
          },
          "metadata": {},
          "execution_count": 40
        }
      ]
    },
    {
      "cell_type": "markdown",
      "source": [
        "### **2.5 A Shocking Truth About String Formatting**"
      ],
      "metadata": {
        "id": "ojKccLXzlYwx"
      }
    },
    {
      "cell_type": "code",
      "source": [
        "errno = 50159747054\n",
        "name = 'Bob'"
      ],
      "metadata": {
        "id": "QloAkEOjlqA0"
      },
      "execution_count": 41,
      "outputs": []
    },
    {
      "cell_type": "markdown",
      "source": [
        "### **Old Style**"
      ],
      "metadata": {
        "id": "nzTGoLAfl6PV"
      }
    },
    {
      "cell_type": "code",
      "source": [
        "'Hello,%s' % name"
      ],
      "metadata": {
        "colab": {
          "base_uri": "https://localhost:8080/",
          "height": 35
        },
        "id": "KHvpEjUwl9cV",
        "outputId": "b6a47b1b-086f-4222-c51e-892f6cec43e9"
      },
      "execution_count": 42,
      "outputs": [
        {
          "output_type": "execute_result",
          "data": {
            "application/vnd.google.colaboratory.intrinsic+json": {
              "type": "string"
            },
            "text/plain": [
              "'Hello,Bob'"
            ]
          },
          "metadata": {},
          "execution_count": 42
        }
      ]
    },
    {
      "cell_type": "code",
      "source": [
        "'%x' % errno"
      ],
      "metadata": {
        "colab": {
          "base_uri": "https://localhost:8080/",
          "height": 35
        },
        "id": "s6PVEjBrmNVR",
        "outputId": "b1768a90-e71d-42ab-89f3-772fa396a7db"
      },
      "execution_count": 43,
      "outputs": [
        {
          "output_type": "execute_result",
          "data": {
            "application/vnd.google.colaboratory.intrinsic+json": {
              "type": "string"
            },
            "text/plain": [
              "'badc0ffee'"
            ]
          },
          "metadata": {},
          "execution_count": 43
        }
      ]
    },
    {
      "cell_type": "markdown",
      "source": [
        "### ** New Style**"
      ],
      "metadata": {
        "id": "lpjefT_imTxJ"
      }
    },
    {
      "cell_type": "code",
      "source": [
        "'Hello, {}' .format(name)"
      ],
      "metadata": {
        "colab": {
          "base_uri": "https://localhost:8080/",
          "height": 35
        },
        "id": "aDRtIlOnmWbA",
        "outputId": "5f152890-52d9-4ae9-c64c-874f33114c9a"
      },
      "execution_count": 44,
      "outputs": [
        {
          "output_type": "execute_result",
          "data": {
            "application/vnd.google.colaboratory.intrinsic+json": {
              "type": "string"
            },
            "text/plain": [
              "'Hello, Bob'"
            ]
          },
          "metadata": {},
          "execution_count": 44
        }
      ]
    },
    {
      "cell_type": "markdown",
      "source": [
        "### **Literal String Interpolation**"
      ],
      "metadata": {
        "id": "trltEXizmgot"
      }
    },
    {
      "cell_type": "code",
      "source": [
        "f'Hello, {name}!'"
      ],
      "metadata": {
        "colab": {
          "base_uri": "https://localhost:8080/",
          "height": 35
        },
        "id": "0UM32DO1mePy",
        "outputId": "5f201435-5eaf-4b32-d3a8-75d921c1195e"
      },
      "execution_count": 45,
      "outputs": [
        {
          "output_type": "execute_result",
          "data": {
            "application/vnd.google.colaboratory.intrinsic+json": {
              "type": "string"
            },
            "text/plain": [
              "'Hello, Bob!'"
            ]
          },
          "metadata": {},
          "execution_count": 45
        }
      ]
    },
    {
      "cell_type": "code",
      "source": [
        "a=5\n",
        "b=10\n",
        "f'Five plus ten is {a+b} and not {2*(a+b)}.'"
      ],
      "metadata": {
        "colab": {
          "base_uri": "https://localhost:8080/",
          "height": 35
        },
        "id": "NVKCupJKmshw",
        "outputId": "745a6307-8673-48f6-ad73-8f3ce3d1c4bc"
      },
      "execution_count": 46,
      "outputs": [
        {
          "output_type": "execute_result",
          "data": {
            "application/vnd.google.colaboratory.intrinsic+json": {
              "type": "string"
            },
            "text/plain": [
              "'Five plus ten is 15 and not 30.'"
            ]
          },
          "metadata": {},
          "execution_count": 46
        }
      ]
    },
    {
      "cell_type": "markdown",
      "source": [
        "### **Template Strings**"
      ],
      "metadata": {
        "id": "L0deK39unDLQ"
      }
    },
    {
      "cell_type": "code",
      "source": [
        "from string import Template\n",
        "t= Template('Hey, $name!')\n",
        "t.substitute(name=name)"
      ],
      "metadata": {
        "colab": {
          "base_uri": "https://localhost:8080/",
          "height": 35
        },
        "id": "bplS5wfanHHG",
        "outputId": "72000fdc-ccf4-4e8b-9203-f52ec57b3a36"
      },
      "execution_count": 47,
      "outputs": [
        {
          "output_type": "execute_result",
          "data": {
            "application/vnd.google.colaboratory.intrinsic+json": {
              "type": "string"
            },
            "text/plain": [
              "'Hey, Bob!'"
            ]
          },
          "metadata": {},
          "execution_count": 47
        }
      ]
    }
  ]
}